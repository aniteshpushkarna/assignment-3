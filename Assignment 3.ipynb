{
 "cells": [
  {
   "cell_type": "code",
   "execution_count": 2,
   "metadata": {},
   "outputs": [],
   "source": [
    "import pickle\n",
    "import matplotlib.pyplot as plt"
   ]
  },
  {
   "cell_type": "code",
   "execution_count": 3,
   "metadata": {},
   "outputs": [],
   "source": [
    "f_train_x = open('trainX.pickle','rb')\n",
    "f_train_y = open('trainY.pickle','rb')\n",
    "x_train = pickle.load(f_train_x)\n",
    "y_train = pickle.load(f_train_y)\n",
    "f_train_x.close()\n",
    "f_train_y.close()"
   ]
  },
  {
   "cell_type": "code",
   "execution_count": 4,
   "metadata": {},
   "outputs": [
    {
     "data": {
      "text/plain": [
       "<matplotlib.image.AxesImage at 0x115ef978>"
      ]
     },
     "execution_count": 4,
     "metadata": {},
     "output_type": "execute_result"
    },
    {
     "data": {
      "image/png": "[encoded data removed]",
      "text/plain": [
       "<Figure size 432x288 with 1 Axes>"
      ]
     },
     "metadata": {
      "needs_background": "light"
     },
     "output_type": "display_data"
    }
   ],
   "source": [
    "plt.imshow(x_train[6],cmap=plt.cm.binary)"
   ]
  },
  {
   "cell_type": "code",
   "execution_count": 140,
   "metadata": {},
   "outputs": [],
   "source": [
    "import keras\n",
    "from keras.datasets import mnist\n",
    "from keras.models import Sequential\n",
    "from keras.layers import Dense,Dropout,Flatten,Activation\n",
    "from keras import backend as K\n",
    "from sklearn.model_selection import train_test_split\n",
    "import numpy as np"
   ]
  },
  {
   "cell_type": "code",
   "execution_count": 141,
   "metadata": {},
   "outputs": [],
   "source": [
    "img_rows,img_cols = 28,28\n",
    "x_train,x_test,y_train,y_test = train_test_split(x_train,y_train,test_size=0.2)"
   ]
  },
  {
   "cell_type": "code",
   "execution_count": 142,
   "metadata": {},
   "outputs": [
    {
     "data": {
      "text/plain": [
       "'channels_last'"
      ]
     },
     "execution_count": 142,
     "metadata": {},
     "output_type": "execute_result"
    }
   ],
   "source": [
    "K.image_data_format()"
   ]
  },
  {
   "cell_type": "code",
   "execution_count": 143,
   "metadata": {},
   "outputs": [],
   "source": [
    "if K.image_data_format() == 'channels_last':\n",
    "    x_train = x_train.reshape(x_train.shape[0],img_rows,img_cols)\n",
    "    x_test = x_test.reshape(x_test.shape[0],img_rows,img_cols)\n",
    "    input_shape = (1,img_rows,img_cols)"
   ]
  },
  {
   "cell_type": "code",
   "execution_count": 144,
   "metadata": {},
   "outputs": [],
   "source": [
    "batch_size = 64\n",
    "num_classes = 10\n",
    "epochs = 10"
   ]
  },
  {
   "cell_type": "code",
   "execution_count": 145,
   "metadata": {},
   "outputs": [
    {
     "name": "stdout",
     "output_type": "stream",
     "text": [
      "x_train shape: (48000, 28, 28)\n",
      "train sample: 48000\n",
      "test sample: 12000\n"
     ]
    }
   ],
   "source": [
    "x_train = x_train.astype('float32')\n",
    "x_test = x_test.astype('float32')\n",
    "x_train = x_train/255\n",
    "x_test = x_test/255\n",
    "\n",
    "print('x_train shape:',x_train.shape)\n",
    "print('train sample:',x_train.shape[0])\n",
    "print('test sample:',x_test.shape[0])\n",
    "\n",
    "y_train = keras.utils.to_categorical(y_train,num_classes)\n",
    "y_test = keras.utils.to_categorical(y_test,num_classes)"
   ]
  },
  {
   "cell_type": "code",
   "execution_count": 146,
   "metadata": {},
   "outputs": [],
   "source": [
    "x_train = x_train.reshape((48000,784))\n",
    "x_test = x_test.reshape((12000,784))"
   ]
  },
  {
   "cell_type": "code",
   "execution_count": 147,
   "metadata": {},
   "outputs": [
    {
     "name": "stdout",
     "output_type": "stream",
     "text": [
      "_________________________________________________________________\n",
      "Layer (type)                 Output Shape              Param #   \n",
      "=================================================================\n",
      "dense_25 (Dense)             (None, 500)               392500    \n",
      "_________________________________________________________________\n",
      "activation_25 (Activation)   (None, 500)               0         \n",
      "_________________________________________________________________\n",
      "dense_26 (Dense)             (None, 300)               150300    \n",
      "_________________________________________________________________\n",
      "activation_26 (Activation)   (None, 300)               0         \n",
      "_________________________________________________________________\n",
      "dense_27 (Dense)             (None, 10)                3010      \n",
      "_________________________________________________________________\n",
      "activation_27 (Activation)   (None, 10)                0         \n",
      "=================================================================\n",
      "Total params: 545,810\n",
      "Trainable params: 545,810\n",
      "Non-trainable params: 0\n",
      "_________________________________________________________________\n"
     ]
    }
   ],
   "source": [
    "model = Sequential()\n",
    "model.add(Dense(500,input_dim=784),)\n",
    "model.add(Activation('relu'))\n",
    "\n",
    "model.add(Dense(300))\n",
    "model.add(Activation('relu'))\n",
    "\n",
    "model.add(Dense(10))\n",
    "model.add(Activation('softmax'))\n",
    "model.summary()\n",
    "model.compile(loss=keras.losses.categorical_crossentropy,\n",
    "             optimizer = keras.optimizers.Adadelta(),\n",
    "             metrics=['accuracy'])"
   ]
  },
  {
   "cell_type": "code",
   "execution_count": 148,
   "metadata": {},
   "outputs": [
    {
     "name": "stdout",
     "output_type": "stream",
     "text": [
      "Train on 48000 samples, validate on 12000 samples\n",
      "Epoch 1/10\n",
      "48000/48000 [==============================] - 17s 345us/step - loss: 0.5386 - acc: 0.8040 - val_loss: 0.4363 - val_acc: 0.8354\n",
      "Epoch 2/10\n",
      "48000/48000 [==============================] - 17s 353us/step - loss: 0.3788 - acc: 0.8607 - val_loss: 0.3564 - val_acc: 0.8652\n",
      "Epoch 3/10\n",
      "48000/48000 [==============================] - 17s 354us/step - loss: 0.3382 - acc: 0.8747 - val_loss: 0.3603 - val_acc: 0.8660\n",
      "Epoch 4/10\n",
      "48000/48000 [==============================] - 17s 351us/step - loss: 0.3108 - acc: 0.8850 - val_loss: 0.3352 - val_acc: 0.8748\n",
      "Epoch 5/10\n",
      "48000/48000 [==============================] - 17s 353us/step - loss: 0.2908 - acc: 0.8907 - val_loss: 0.3151 - val_acc: 0.8880\n",
      "Epoch 6/10\n",
      "48000/48000 [==============================] - 17s 358us/step - loss: 0.2724 - acc: 0.8972 - val_loss: 0.3179 - val_acc: 0.8822\n",
      "Epoch 7/10\n",
      "48000/48000 [==============================] - 17s 360us/step - loss: 0.2592 - acc: 0.9021 - val_loss: 0.3676 - val_acc: 0.8742\n",
      "Epoch 8/10\n",
      "48000/48000 [==============================] - 17s 361us/step - loss: 0.2469 - acc: 0.9069 - val_loss: 0.3180 - val_acc: 0.8887\n",
      "Epoch 9/10\n",
      "48000/48000 [==============================] - 17s 362us/step - loss: 0.2357 - acc: 0.9109 - val_loss: 0.3209 - val_acc: 0.8881\n",
      "Epoch 10/10\n",
      "48000/48000 [==============================] - 17s 359us/step - loss: 0.2280 - acc: 0.9135 - val_loss: 0.3083 - val_acc: 0.8929\n",
      "Test loss: 0.3083311683833599\n",
      "Test accuracy: 0.8929166666666667\n"
     ]
    }
   ],
   "source": [
    "model.fit(x_train,y_train,\n",
    "         batch_size=batch_size,\n",
    "         epochs=epochs,\n",
    "         verbose=1,\n",
    "         validation_data=(x_test,y_test))\n",
    "\n",
    "score = model.evaluate(x_test,y_test,verbose=0)\n",
    "print('Test loss:',score[0])\n",
    "print('Test accuracy:',score[1])"
   ]
  },
  {
   "cell_type": "code",
   "execution_count": 160,
   "metadata": {},
   "outputs": [],
   "source": [
    "testX = pickle.load(open('testX.pickle','rb'))"
   ]
  },
  {
   "cell_type": "code",
   "execution_count": 163,
   "metadata": {},
   "outputs": [],
   "source": [
    "testX = testX.reshape(testX.shape[0],img_rows,img_cols)\n",
    "testX = testX.reshape((10000,784))"
   ]
  },
  {
   "cell_type": "code",
   "execution_count": 173,
   "metadata": {},
   "outputs": [],
   "source": [
    "res = model.predict(testX)"
   ]
  },
  {
   "cell_type": "code",
   "execution_count": 178,
   "metadata": {},
   "outputs": [],
   "source": [
    "with open('Y.pickle', 'wb') as f:\n",
    "    pickle.dump(res, f)"
   ]
  }
 ],
 "metadata": {
  "kernelspec": {
   "display_name": "Python 3",
   "language": "python",
   "name": "python3"
  },
  "language_info": {
   "codemirror_mode": {
    "name": "ipython",
    "version": 3
   },
   "file_extension": ".py",
   "mimetype": "text/x-python",
   "name": "python",
   "nbconvert_exporter": "python",
   "pygments_lexer": "ipython3",
   "version": "3.7.3"
  }
 },
 "nbformat": 4,
 "nbformat_minor": 2
}
